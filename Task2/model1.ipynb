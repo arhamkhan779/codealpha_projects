{
 "cells": [
  {
   "cell_type": "markdown",
   "id": "21c9e0a4-c770-4038-a524-4efdb8e249cc",
   "metadata": {},
   "source": [
    "# Codealpha task#2 | Diabetes Prediction Using Medical Dataset | Machine Learning | Classification Problem"
   ]
  },
  {
   "cell_type": "markdown",
   "id": "dd470767-5443-4327-a25c-675227bf568b",
   "metadata": {},
   "source": [
    "## Importing Necessory Libraries"
   ]
  },
  {
   "cell_type": "code",
   "execution_count": 1,
   "id": "df878605-6696-44e0-a9f8-5b963ca7f17c",
   "metadata": {},
   "outputs": [],
   "source": [
    "import numpy as np\n",
    "import pandas as pd\n",
    "import matplotlib.pyplot as plt\n",
    "import seaborn as sb\n",
    "from sklearn.preprocessing import MinMaxScaler\n",
    "from sklearn.model_selection import train_test_split\n",
    "from sklearn.ensemble import RandomForestClassifier\n",
    "from sklearn.metrics import confusion_matrix as cm, classification_report as cr\n",
    "%matplotlib inline"
   ]
  },
  {
   "cell_type": "markdown",
   "id": "319f8116-c08b-45d9-9f9e-fddbc80243bd",
   "metadata": {},
   "source": [
    "# Create  DataFrame Of CSV file"
   ]
  },
  {
   "cell_type": "code",
   "execution_count": 2,
   "id": "1bb37c44-e7cc-486e-9cb4-19d7eb51a56c",
   "metadata": {},
   "outputs": [],
   "source": [
    "df=pd.read_csv(\"diabetes_prediction_dataset.csv\")"
   ]
  },
  {
   "cell_type": "code",
   "execution_count": 3,
   "id": "37e2e8c8-063f-48d8-ad76-4c11b7ec2fd7",
   "metadata": {},
   "outputs": [
    {
     "data": {
      "text/plain": [
       "(100000, 9)"
      ]
     },
     "execution_count": 3,
     "metadata": {},
     "output_type": "execute_result"
    }
   ],
   "source": [
    "df.shape"
   ]
  },
  {
   "cell_type": "markdown",
   "id": "12a3290f-ce2c-4ad2-8297-4088b94875e1",
   "metadata": {},
   "source": [
    "# Exploratory Data Analysis"
   ]
  },
  {
   "cell_type": "code",
   "execution_count": 4,
   "id": "204c880b-782a-4b1e-a72f-fd794d32d282",
   "metadata": {},
   "outputs": [
    {
     "data": {
      "text/plain": [
       "diabetes\n",
       "0    91500\n",
       "1     8500\n",
       "Name: count, dtype: int64"
      ]
     },
     "execution_count": 4,
     "metadata": {},
     "output_type": "execute_result"
    }
   ],
   "source": [
    "df.columns\n",
    "df.diabetes.value_counts()"
   ]
  },
  {
   "cell_type": "code",
   "execution_count": 5,
   "id": "e12d097d-b666-400f-b843-f64b367a7c7e",
   "metadata": {},
   "outputs": [
    {
     "name": "stdout",
     "output_type": "stream",
     "text": [
      "gender : ['Female' 'Male' 'Other']\n",
      "age : [80.   54.   28.   36.   76.   20.   44.   79.   42.   32.   53.   78.\n",
      " 67.   15.   37.   40.    5.   69.   72.    4.   30.   45.   43.   50.\n",
      " 41.   26.   34.   73.   77.   66.   29.   60.   38.    3.   57.   74.\n",
      " 19.   46.   21.   59.   27.   13.   56.    2.    7.   11.    6.   55.\n",
      "  9.   62.   47.   12.   68.   75.   22.   58.   18.   24.   17.   25.\n",
      "  0.08 33.   16.   61.   31.    8.   49.   39.   65.   14.   70.    0.56\n",
      " 48.   51.   71.    0.88 64.   63.   52.    0.16 10.   35.   23.    0.64\n",
      "  1.16  1.64  0.72  1.88  1.32  0.8   1.24  1.    1.8   0.48  1.56  1.08\n",
      "  0.24  1.4   0.4   0.32  1.72  1.48]\n",
      "hypertension : [0 1]\n",
      "heart_disease : [1 0]\n",
      "smoking_history : ['never' 'No Info' 'current' 'former' 'ever' 'not current']\n",
      "bmi : [25.19 27.32 23.45 ... 59.42 44.39 60.52]\n",
      "HbA1c_level : [6.6 5.7 5.  4.8 6.5 6.1 6.  5.8 3.5 6.2 4.  4.5 9.  7.  8.8 8.2 7.5 6.8]\n",
      "blood_glucose_level : [140  80 158 155  85 200 145 100 130 160 126 159  90 260 220 300 280 240]\n",
      "diabetes : [0 1]\n"
     ]
    }
   ],
   "source": [
    "def print_unique(df):\n",
    "     for col in df:\n",
    "         print(f\"{col} : {df[col].unique()}\")\n",
    "print_unique(df)"
   ]
  },
  {
   "cell_type": "markdown",
   "id": "0452a411-952d-4fec-b200-31c0220e0faf",
   "metadata": {},
   "source": [
    "## Transforming Age column "
   ]
  },
  {
   "cell_type": "code",
   "execution_count": 6,
   "id": "3131311d-0ae0-4e70-8619-d23349ecdd60",
   "metadata": {},
   "outputs": [],
   "source": [
    "std=df['age'].std()\n",
    "mean=df['age'].mean()"
   ]
  },
  {
   "cell_type": "markdown",
   "id": "47741408-f840-459d-8b2c-49ffab93cfbd",
   "metadata": {},
   "source": [
    "# Removing One Standard Deviation to remove Outliers"
   ]
  },
  {
   "cell_type": "code",
   "execution_count": 7,
   "id": "813aab08-f300-4c2c-8154-885f7bd9a872",
   "metadata": {},
   "outputs": [],
   "source": [
    "high=1*(mean+std)\n",
    "low=1*(mean-std)\n",
    "low,high\n",
    "df2=df[(df.age > low)]"
   ]
  },
  {
   "cell_type": "code",
   "execution_count": 8,
   "id": "f86b581d-c3d7-4437-8c7b-b3b6bac61a51",
   "metadata": {},
   "outputs": [
    {
     "data": {
      "text/plain": [
       "Text(0.5, 1.0, 'After Outlier Removal')"
      ]
     },
     "execution_count": 8,
     "metadata": {},
     "output_type": "execute_result"
    },
    {
     "data": {
      "image/png": "[encoded data removed]",
      "text/plain": [
       "<Figure size 640x480 with 2 Axes>"
      ]
     },
     "metadata": {},
     "output_type": "display_data"
    }
   ],
   "source": [
    "plt.subplot(2,2,1)\n",
    "plt.hist(df['age'],color='red')\n",
    "plt.title(\"Before Outlier Removal\")\n",
    "plt.subplot(2,2,4)\n",
    "plt.hist(df2['age'],color='blue')\n",
    "plt.title(\"After Outlier Removal\")"
   ]
  },
  {
   "cell_type": "code",
   "execution_count": 9,
   "id": "23f02ae0-fd91-4c4d-b49a-2add2681c4fa",
   "metadata": {},
   "outputs": [
    {
     "name": "stdout",
     "output_type": "stream",
     "text": [
      "gender : ['Female' 'Male' 'Other']\n",
      "age : [80. 54. 28. 36. 76. 20. 44. 79. 42. 32. 53. 78. 67. 37. 40. 69. 72. 30.\n",
      " 45. 43. 50. 41. 26. 34. 73. 77. 66. 29. 60. 38. 57. 74. 46. 21. 59. 27.\n",
      " 56. 55. 62. 47. 68. 75. 22. 58. 24. 25. 33. 61. 31. 49. 39. 65. 70. 48.\n",
      " 51. 71. 64. 63. 52. 35. 23.]\n",
      "hypertension : [0 1]\n",
      "heart_disease : [1 0]\n",
      "smoking_history : ['never' 'No Info' 'current' 'former' 'ever' 'not current']\n",
      "bmi : [25.19 27.32 23.45 ... 59.42 44.39 60.52]\n",
      "HbA1c_level : [6.6 5.7 5.  4.8 6.5 6.1 6.  5.8 3.5 4.  6.2 9.  7.  8.8 8.2 4.5 7.5 6.8]\n",
      "blood_glucose_level : [140  80 158 155  85 200 145 100 130 160 126 159  90 260 220 300 280 240]\n",
      "diabetes : [0 1]\n"
     ]
    }
   ],
   "source": [
    "print_unique(df2)"
   ]
  },
  {
   "cell_type": "markdown",
   "id": "0b6c6add-71e6-4edf-93b3-12277e8a2f42",
   "metadata": {},
   "source": [
    "# Transforming BMI column"
   ]
  },
  {
   "cell_type": "code",
   "execution_count": 10,
   "id": "a0661dfc-c073-43c1-9edb-62f5398e324f",
   "metadata": {},
   "outputs": [
    {
     "data": {
      "text/plain": [
       "Text(0.5, 1.0, 'Before Outlier Removal')"
      ]
     },
     "execution_count": 10,
     "metadata": {},
     "output_type": "execute_result"
    },
    {
     "data": {
      "image/png": "[encoded data removed]",
      "text/plain": [
       "<Figure size 640x480 with 1 Axes>"
      ]
     },
     "metadata": {},
     "output_type": "display_data"
    }
   ],
   "source": [
    "plt.hist(df2.bmi)\n",
    "plt.title(\"Before Outlier Removal\")"
   ]
  },
  {
   "cell_type": "markdown",
   "id": "df4ce824-58f8-4e19-bb96-48c7fb9459a2",
   "metadata": {},
   "source": [
    "# Using One standard deviation to remove outliers"
   ]
  },
  {
   "cell_type": "code",
   "execution_count": 11,
   "id": "5a69c48e-0372-4a99-a3b2-b97532ac838c",
   "metadata": {},
   "outputs": [],
   "source": [
    "std1=df2['bmi'].std()\n",
    "mean=df2['bmi'].mean()\n",
    "low=(mean-std)\n",
    "high=(mean+std)\n",
    "low,high\n",
    "df3=df2[(df2.bmi <= high) & (df2.bmi >= low)]"
   ]
  },
  {
   "cell_type": "code",
   "execution_count": 12,
   "id": "e509bc62-1ff8-4a84-897b-91bc0296528d",
   "metadata": {},
   "outputs": [
    {
     "data": {
      "text/plain": [
       "Text(0.5, 1.0, 'After Applying One STD')"
      ]
     },
     "execution_count": 12,
     "metadata": {},
     "output_type": "execute_result"
    },
    {
     "data": {
      "image/png": "[encoded data removed]",
      "text/plain": [
       "<Figure size 640x480 with 2 Axes>"
      ]
     },
     "metadata": {},
     "output_type": "display_data"
    }
   ],
   "source": [
    "plt.subplot(2,2,1)\n",
    "plt.hist(df2.bmi,color='red')\n",
    "plt.title(\"Before Outlier Removal\")\n",
    "plt.subplot(2,2,4)\n",
    "plt.hist(df3['bmi'],color='blue')\n",
    "plt.title(\"After Applying One STD\")"
   ]
  },
  {
   "cell_type": "markdown",
   "id": "07d35d87-104b-4193-a75e-2e0a5daa5901",
   "metadata": {},
   "source": [
    "# Using Z-Score and Median absolute deviation to remove outliers"
   ]
  },
  {
   "cell_type": "code",
   "execution_count": 13,
   "id": "7877ee2d-224d-4270-9382-ebe6a8ed9be8",
   "metadata": {},
   "outputs": [
    {
     "name": "stderr",
     "output_type": "stream",
     "text": [
      "C:\\Users\\Arham khan\\AppData\\Local\\Temp\\ipykernel_7524\\3268716002.py:2: SettingWithCopyWarning: \n",
      "A value is trying to be set on a copy of a slice from a DataFrame.\n",
      "Try using .loc[row_indexer,col_indexer] = value instead\n",
      "\n",
      "See the caveats in the documentation: https://pandas.pydata.org/pandas-docs/stable/user_guide/indexing.html#returning-a-view-versus-a-copy\n",
      "  df3['bm_he']=abs(df3['bmi']-median)\n"
     ]
    }
   ],
   "source": [
    "median=df3['bmi'].median()\n",
    "df3['bm_he']=abs(df3['bmi']-median)\n",
    "mad=df3['bm_he'].median()"
   ]
  },
  {
   "cell_type": "code",
   "execution_count": 14,
   "id": "d1569f6b-0341-4942-b222-36141eb04da8",
   "metadata": {},
   "outputs": [
    {
     "name": "stderr",
     "output_type": "stream",
     "text": [
      "C:\\Users\\Arham khan\\AppData\\Local\\Temp\\ipykernel_7524\\3002384734.py:1: SettingWithCopyWarning: \n",
      "A value is trying to be set on a copy of a slice from a DataFrame.\n",
      "Try using .loc[row_indexer,col_indexer] = value instead\n",
      "\n",
      "See the caveats in the documentation: https://pandas.pydata.org/pandas-docs/stable/user_guide/indexing.html#returning-a-view-versus-a-copy\n",
      "  df3['modi_zscore']=0.6745*(df3.bm_he-median)/mad\n"
     ]
    }
   ],
   "source": [
    "df3['modi_zscore']=0.6745*(df3.bm_he-median)/mad\n",
    "df4=df3[(df3['modi_zscore'] <= -3.5)]"
   ]
  },
  {
   "cell_type": "code",
   "execution_count": 15,
   "id": "f1c7567a-fabb-4519-8279-e37a2e77cc25",
   "metadata": {},
   "outputs": [
    {
     "data": {
      "text/plain": [
       "Text(0.5, 1.0, 'After Applying Z-score')"
      ]
     },
     "execution_count": 15,
     "metadata": {},
     "output_type": "execute_result"
    },
    {
     "data": {
      "image/png": "[encoded data removed]",
      "text/plain": [
       "<Figure size 640x480 with 2 Axes>"
      ]
     },
     "metadata": {},
     "output_type": "display_data"
    }
   ],
   "source": [
    "plt.subplot(2,2,1)\n",
    "plt.hist(df3['bmi'],color='red')\n",
    "plt.title(\"After Applying One STD\")\n",
    "plt.subplot(2,2,4)\n",
    "plt.hist(df4.bmi,color='blue')\n",
    "plt.title('After Applying Z-score')"
   ]
  },
  {
   "cell_type": "code",
   "execution_count": 16,
   "id": "43beeebf-7f35-48cf-8bc2-c83da5cbb957",
   "metadata": {},
   "outputs": [
    {
     "data": {
      "text/plain": [
       "count    77273.00000\n",
       "mean        27.96480\n",
       "std          4.69186\n",
       "min         12.73000\n",
       "25%         25.52000\n",
       "50%         27.32000\n",
       "75%         30.05000\n",
       "max         42.23000\n",
       "Name: bmi, dtype: float64"
      ]
     },
     "execution_count": 16,
     "metadata": {},
     "output_type": "execute_result"
    }
   ],
   "source": [
    "df4['bmi'].describe()"
   ]
  },
  {
   "cell_type": "code",
   "execution_count": 17,
   "id": "0bcc5da1-dd89-4f61-bba3-7fe81883f972",
   "metadata": {},
   "outputs": [
    {
     "name": "stdout",
     "output_type": "stream",
     "text": [
      "gender : ['Female' 'Male' 'Other']\n",
      "age : [80. 54. 28. 36. 76. 20. 44. 79. 42. 32. 53. 78. 67. 37. 40. 69. 72. 30.\n",
      " 45. 43. 50. 41. 26. 73. 77. 66. 29. 60. 38. 57. 74. 46. 21. 59. 27. 56.\n",
      " 34. 55. 62. 47. 68. 75. 22. 58. 24. 25. 33. 61. 31. 49. 39. 65. 70. 48.\n",
      " 51. 71. 64. 63. 52. 35. 23.]\n",
      "hypertension : [0 1]\n",
      "heart_disease : [1 0]\n",
      "smoking_history : ['never' 'No Info' 'current' 'former' 'ever' 'not current']\n",
      "bmi : [25.19 27.32 23.45 ... 41.37 14.79 17.56]\n",
      "HbA1c_level : [6.6 5.7 5.  4.8 6.5 6.1 5.8 3.5 6.  4.  6.2 9.  7.  8.2 4.5 7.5 6.8 8.8]\n",
      "blood_glucose_level : [140  80 158 155  85 200 145 100 130 160 126 159  90 260 220 300 280 240]\n",
      "diabetes : [0 1]\n",
      "bm_he : [ 2.13  0.    3.87 ... 12.49 14.05  9.76]\n",
      "modi_zscore : [-7.10906067 -7.7101841  -6.61800209 ... -4.18528661 -3.7450272\n",
      " -4.95574059]\n"
     ]
    }
   ],
   "source": [
    "print_unique(df4)"
   ]
  },
  {
   "cell_type": "markdown",
   "id": "3cbca240-1c3a-49db-9579-5cc83fda5cd6",
   "metadata": {},
   "source": [
    "# Transforming Gender Columns"
   ]
  },
  {
   "cell_type": "code",
   "execution_count": 18,
   "id": "386bf2d8-8ef7-490b-8663-0e3390b6c581",
   "metadata": {},
   "outputs": [],
   "source": [
    "def transform_gender(df):\n",
    "    list=[]\n",
    "    new_df=df['gender']\n",
    "    for i in new_df:\n",
    "        if(i=='Female'):\n",
    "            list.append(1)\n",
    "        elif(i=='Male'):\n",
    "            list.append(0)\n",
    "        else:\n",
    "            list.append(2)\n",
    "    df['gender']=list\n",
    "    return df"
   ]
  },
  {
   "cell_type": "code",
   "execution_count": 19,
   "id": "a4f8b4aa-f55b-4ca8-974a-bb0a50bfb007",
   "metadata": {},
   "outputs": [
    {
     "name": "stderr",
     "output_type": "stream",
     "text": [
      "C:\\Users\\Arham khan\\AppData\\Local\\Temp\\ipykernel_7524\\3293396349.py:11: SettingWithCopyWarning: \n",
      "A value is trying to be set on a copy of a slice from a DataFrame.\n",
      "Try using .loc[row_indexer,col_indexer] = value instead\n",
      "\n",
      "See the caveats in the documentation: https://pandas.pydata.org/pandas-docs/stable/user_guide/indexing.html#returning-a-view-versus-a-copy\n",
      "  df['gender']=list\n"
     ]
    },
    {
     "data": {
      "text/html": [
       "<div>\n",
       "<style scoped>\n",
       "    .dataframe tbody tr th:only-of-type {\n",
       "        vertical-align: middle;\n",
       "    }\n",
       "\n",
       "    .dataframe tbody tr th {\n",
       "        vertical-align: top;\n",
       "    }\n",
       "\n",
       "    .dataframe thead th {\n",
       "        text-align: right;\n",
       "    }\n",
       "</style>\n",
       "<table border=\"1\" class=\"dataframe\">\n",
       "  <thead>\n",
       "    <tr style=\"text-align: right;\">\n",
       "      <th></th>\n",
       "      <th>gender</th>\n",
       "      <th>age</th>\n",
       "      <th>hypertension</th>\n",
       "      <th>heart_disease</th>\n",
       "      <th>smoking_history</th>\n",
       "      <th>bmi</th>\n",
       "      <th>HbA1c_level</th>\n",
       "      <th>blood_glucose_level</th>\n",
       "      <th>diabetes</th>\n",
       "      <th>bm_he</th>\n",
       "      <th>modi_zscore</th>\n",
       "    </tr>\n",
       "  </thead>\n",
       "  <tbody>\n",
       "    <tr>\n",
       "      <th>0</th>\n",
       "      <td>1</td>\n",
       "      <td>80.0</td>\n",
       "      <td>0</td>\n",
       "      <td>1</td>\n",
       "      <td>never</td>\n",
       "      <td>25.19</td>\n",
       "      <td>6.6</td>\n",
       "      <td>140</td>\n",
       "      <td>0</td>\n",
       "      <td>2.13</td>\n",
       "      <td>-7.109061</td>\n",
       "    </tr>\n",
       "    <tr>\n",
       "      <th>1</th>\n",
       "      <td>1</td>\n",
       "      <td>54.0</td>\n",
       "      <td>0</td>\n",
       "      <td>0</td>\n",
       "      <td>No Info</td>\n",
       "      <td>27.32</td>\n",
       "      <td>6.6</td>\n",
       "      <td>80</td>\n",
       "      <td>0</td>\n",
       "      <td>0.00</td>\n",
       "      <td>-7.710184</td>\n",
       "    </tr>\n",
       "    <tr>\n",
       "      <th>2</th>\n",
       "      <td>0</td>\n",
       "      <td>28.0</td>\n",
       "      <td>0</td>\n",
       "      <td>0</td>\n",
       "      <td>never</td>\n",
       "      <td>27.32</td>\n",
       "      <td>5.7</td>\n",
       "      <td>158</td>\n",
       "      <td>0</td>\n",
       "      <td>0.00</td>\n",
       "      <td>-7.710184</td>\n",
       "    </tr>\n",
       "    <tr>\n",
       "      <th>3</th>\n",
       "      <td>1</td>\n",
       "      <td>36.0</td>\n",
       "      <td>0</td>\n",
       "      <td>0</td>\n",
       "      <td>current</td>\n",
       "      <td>23.45</td>\n",
       "      <td>5.0</td>\n",
       "      <td>155</td>\n",
       "      <td>0</td>\n",
       "      <td>3.87</td>\n",
       "      <td>-6.618002</td>\n",
       "    </tr>\n",
       "    <tr>\n",
       "      <th>4</th>\n",
       "      <td>0</td>\n",
       "      <td>76.0</td>\n",
       "      <td>1</td>\n",
       "      <td>1</td>\n",
       "      <td>current</td>\n",
       "      <td>20.14</td>\n",
       "      <td>4.8</td>\n",
       "      <td>155</td>\n",
       "      <td>0</td>\n",
       "      <td>7.18</td>\n",
       "      <td>-5.683862</td>\n",
       "    </tr>\n",
       "  </tbody>\n",
       "</table>\n",
       "</div>"
      ],
      "text/plain": [
       "   gender   age  hypertension  heart_disease smoking_history    bmi  \\\n",
       "0       1  80.0             0              1           never  25.19   \n",
       "1       1  54.0             0              0         No Info  27.32   \n",
       "2       0  28.0             0              0           never  27.32   \n",
       "3       1  36.0             0              0         current  23.45   \n",
       "4       0  76.0             1              1         current  20.14   \n",
       "\n",
       "   HbA1c_level  blood_glucose_level  diabetes  bm_he  modi_zscore  \n",
       "0          6.6                  140         0   2.13    -7.109061  \n",
       "1          6.6                   80         0   0.00    -7.710184  \n",
       "2          5.7                  158         0   0.00    -7.710184  \n",
       "3          5.0                  155         0   3.87    -6.618002  \n",
       "4          4.8                  155         0   7.18    -5.683862  "
      ]
     },
     "execution_count": 19,
     "metadata": {},
     "output_type": "execute_result"
    }
   ],
   "source": [
    "df5=transform_gender(df4)\n",
    "df5.head()"
   ]
  },
  {
   "cell_type": "code",
   "execution_count": 20,
   "id": "10b15db5-b715-40a1-a094-1f1242005420",
   "metadata": {},
   "outputs": [],
   "source": [
    "df5=df5.drop(columns=['bm_he',\"modi_zscore\"])"
   ]
  },
  {
   "cell_type": "code",
   "execution_count": 21,
   "id": "595c821b-226c-46b3-b97e-3ba22a318edd",
   "metadata": {},
   "outputs": [
    {
     "name": "stdout",
     "output_type": "stream",
     "text": [
      "gender : [1 0 2]\n",
      "age : [80. 54. 28. 36. 76. 20. 44. 79. 42. 32. 53. 78. 67. 37. 40. 69. 72. 30.\n",
      " 45. 43. 50. 41. 26. 73. 77. 66. 29. 60. 38. 57. 74. 46. 21. 59. 27. 56.\n",
      " 34. 55. 62. 47. 68. 75. 22. 58. 24. 25. 33. 61. 31. 49. 39. 65. 70. 48.\n",
      " 51. 71. 64. 63. 52. 35. 23.]\n",
      "hypertension : [0 1]\n",
      "heart_disease : [1 0]\n",
      "smoking_history : ['never' 'No Info' 'current' 'former' 'ever' 'not current']\n",
      "bmi : [25.19 27.32 23.45 ... 41.37 14.79 17.56]\n",
      "HbA1c_level : [6.6 5.7 5.  4.8 6.5 6.1 5.8 3.5 6.  4.  6.2 9.  7.  8.2 4.5 7.5 6.8 8.8]\n",
      "blood_glucose_level : [140  80 158 155  85 200 145 100 130 160 126 159  90 260 220 300 280 240]\n",
      "diabetes : [0 1]\n"
     ]
    }
   ],
   "source": [
    "print_unique(df5)"
   ]
  },
  {
   "cell_type": "markdown",
   "id": "32c3551d-0574-4c4c-9e5d-4f63c23bb3da",
   "metadata": {},
   "source": [
    "# Tranform HBA1c Column"
   ]
  },
  {
   "cell_type": "markdown",
   "id": "9dc4b4d3-a0fd-4e9b-a8d9-357342bb137b",
   "metadata": {},
   "source": [
    "# Using One standard deviation remove outliers"
   ]
  },
  {
   "cell_type": "code",
   "execution_count": 22,
   "id": "be623cf1-d41f-472d-a428-ceb2efc4fccd",
   "metadata": {},
   "outputs": [],
   "source": [
    "std=df5['HbA1c_level'].std()\n",
    "mean=df5['HbA1c_level'].mean()\n",
    "high=1*(mean+std)\n",
    "low=1*(mean-std)"
   ]
  },
  {
   "cell_type": "code",
   "execution_count": 23,
   "id": "e6289cf4-9529-49dd-b798-abddc9106204",
   "metadata": {},
   "outputs": [
    {
     "data": {
      "text/plain": [
       "count    77273.000000\n",
       "mean         5.544837\n",
       "std          1.083737\n",
       "min          3.500000\n",
       "25%          4.800000\n",
       "50%          5.800000\n",
       "75%          6.200000\n",
       "max          9.000000\n",
       "Name: HbA1c_level, dtype: float64"
      ]
     },
     "execution_count": 23,
     "metadata": {},
     "output_type": "execute_result"
    }
   ],
   "source": [
    "df5['HbA1c_level'].describe()"
   ]
  },
  {
   "cell_type": "code",
   "execution_count": 24,
   "id": "4f9d57bb-cd62-4406-b615-a4c238905c00",
   "metadata": {},
   "outputs": [
    {
     "data": {
      "text/plain": [
       "(77273, 9)"
      ]
     },
     "execution_count": 24,
     "metadata": {},
     "output_type": "execute_result"
    }
   ],
   "source": [
    "df5.shape"
   ]
  },
  {
   "cell_type": "code",
   "execution_count": 25,
   "id": "07956be0-2b58-42c6-b6bb-95bef6c5c89d",
   "metadata": {},
   "outputs": [
    {
     "data": {
      "text/plain": [
       "(73833, 9)"
      ]
     },
     "execution_count": 25,
     "metadata": {},
     "output_type": "execute_result"
    }
   ],
   "source": [
    "df6=df5[(df5.HbA1c_level <= high)]\n",
    "df6.shape"
   ]
  },
  {
   "cell_type": "code",
   "execution_count": 26,
   "id": "5e1bb69d-3cc7-4b0c-b9b1-ee90bd800841",
   "metadata": {},
   "outputs": [
    {
     "data": {
      "text/plain": [
       "Text(0.5, 1.0, 'After Outlier Removal')"
      ]
     },
     "execution_count": 26,
     "metadata": {},
     "output_type": "execute_result"
    },
    {
     "data": {
      "image/png": "[encoded data removed]",
      "text/plain": [
       "<Figure size 640x480 with 2 Axes>"
      ]
     },
     "metadata": {},
     "output_type": "display_data"
    }
   ],
   "source": [
    "plt.subplot(2,2,1)\n",
    "plt.hist(df5['HbA1c_level'],color='red')\n",
    "plt.title(\"Before Outlier removal\")\n",
    "plt.subplot(2,2,4)\n",
    "plt.hist(df6['HbA1c_level'])\n",
    "plt.title(\"After Outlier Removal\")"
   ]
  },
  {
   "cell_type": "code",
   "execution_count": 27,
   "id": "f65523e9-629a-4905-9d15-25524c9cfd7a",
   "metadata": {},
   "outputs": [
    {
     "data": {
      "text/plain": [
       "count    73833.000000\n",
       "mean         5.434955\n",
       "std          0.961608\n",
       "min          3.500000\n",
       "25%          4.800000\n",
       "50%          5.800000\n",
       "75%          6.200000\n",
       "max          6.600000\n",
       "Name: HbA1c_level, dtype: float64"
      ]
     },
     "execution_count": 27,
     "metadata": {},
     "output_type": "execute_result"
    }
   ],
   "source": [
    "df6['HbA1c_level'].describe()"
   ]
  },
  {
   "cell_type": "markdown",
   "id": "69431027-b742-4aa4-9364-1458a2265985",
   "metadata": {},
   "source": [
    "# After Removal of outliers from hbA1c column now my data is linearly distributed"
   ]
  },
  {
   "cell_type": "code",
   "execution_count": 28,
   "id": "c368ba18-28f0-4328-b036-84fda2afad48",
   "metadata": {},
   "outputs": [
    {
     "name": "stdout",
     "output_type": "stream",
     "text": [
      "gender : [1 0 2]\n",
      "age : [80. 54. 28. 36. 76. 20. 44. 79. 42. 32. 53. 78. 67. 37. 40. 69. 72. 30.\n",
      " 45. 43. 50. 41. 26. 77. 66. 29. 60. 38. 57. 74. 46. 21. 59. 27. 56. 34.\n",
      " 55. 62. 47. 68. 75. 22. 58. 24. 25. 33. 31. 49. 39. 65. 70. 48. 51. 71.\n",
      " 64. 63. 52. 35. 61. 73. 23.]\n",
      "hypertension : [0 1]\n",
      "heart_disease : [1 0]\n",
      "smoking_history : ['never' 'No Info' 'current' 'former' 'ever' 'not current']\n",
      "bmi : [25.19 27.32 23.45 ... 41.37 14.79 17.56]\n",
      "HbA1c_level : [6.6 5.7 5.  4.8 6.5 6.1 5.8 3.5 6.  4.  6.2 4.5]\n",
      "blood_glucose_level : [140  80 158 155  85 200 145 100 130 160 126 159  90 260 220 280 300 240]\n",
      "diabetes : [0 1]\n"
     ]
    }
   ],
   "source": [
    "print_unique(df6)"
   ]
  },
  {
   "cell_type": "markdown",
   "id": "2544e214-764a-41c3-b27a-e2e1ab7a9b4e",
   "metadata": {},
   "source": [
    "# Transforming Blood glucose level column"
   ]
  },
  {
   "cell_type": "code",
   "execution_count": 29,
   "id": "c3c214c5-0d1d-498d-8efd-b5db3d7f0c48",
   "metadata": {},
   "outputs": [
    {
     "data": {
      "text/plain": [
       "count    73833.000000\n",
       "mean       136.328227\n",
       "std         38.792918\n",
       "min         80.000000\n",
       "25%        100.000000\n",
       "50%        140.000000\n",
       "75%        159.000000\n",
       "max        300.000000\n",
       "Name: blood_glucose_level, dtype: float64"
      ]
     },
     "execution_count": 29,
     "metadata": {},
     "output_type": "execute_result"
    }
   ],
   "source": [
    "df6.blood_glucose_level.describe()"
   ]
  },
  {
   "cell_type": "code",
   "execution_count": 30,
   "id": "77cc9370-a723-4349-9136-2005ddc8792f",
   "metadata": {},
   "outputs": [
    {
     "data": {
      "text/plain": [
       "Text(0.5, 1.0, 'Before Outlier Removal')"
      ]
     },
     "execution_count": 30,
     "metadata": {},
     "output_type": "execute_result"
    },
    {
     "data": {
      "image/png": "[encoded data removed]",
      "text/plain": [
       "<Figure size 640x480 with 1 Axes>"
      ]
     },
     "metadata": {},
     "output_type": "display_data"
    }
   ],
   "source": [
    "plt.hist(df6['blood_glucose_level'])\n",
    "plt.title(\"Before Outlier Removal\")"
   ]
  },
  {
   "cell_type": "markdown",
   "id": "07780b86-538d-41c0-9711-9494c014de0b",
   "metadata": {},
   "source": [
    "# Using percentile to remove outliers"
   ]
  },
  {
   "cell_type": "code",
   "execution_count": 31,
   "id": "c43f70d8-c387-4883-9cbc-18b19a1247e2",
   "metadata": {
    "scrolled": true
   },
   "outputs": [],
   "source": [
    "hight=df6['blood_glucose_level'].quantile(0.95)\n",
    "df7=df6[(df6['blood_glucose_level']<= hight)]"
   ]
  },
  {
   "cell_type": "code",
   "execution_count": 32,
   "id": "6e29b72d-6694-4680-b46b-e7805a66f0a8",
   "metadata": {},
   "outputs": [
    {
     "data": {
      "text/plain": [
       "Text(0.5, 1.0, 'After Applying percentile')"
      ]
     },
     "execution_count": 32,
     "metadata": {},
     "output_type": "execute_result"
    },
    {
     "data": {
      "image/png": "[encoded data removed]",
      "text/plain": [
       "<Figure size 640x480 with 2 Axes>"
      ]
     },
     "metadata": {},
     "output_type": "display_data"
    }
   ],
   "source": [
    "plt.subplot(2,2,1)\n",
    "plt.hist(df6['blood_glucose_level'],color='red')\n",
    "plt.title(\"Before Applying percentile\")\n",
    "plt.subplot(2,2,4)\n",
    "plt.hist(df7['blood_glucose_level'])\n",
    "plt.title(\"After Applying percentile\")"
   ]
  },
  {
   "cell_type": "code",
   "execution_count": 33,
   "id": "a73b08ba-0258-47c8-b6ff-9711e8d45187",
   "metadata": {},
   "outputs": [
    {
     "name": "stdout",
     "output_type": "stream",
     "text": [
      "gender : [1 0 2]\n",
      "age : [80. 54. 28. 36. 76. 20. 44. 79. 42. 32. 53. 78. 67. 37. 40. 69. 72. 30.\n",
      " 45. 43. 50. 41. 26. 77. 66. 29. 60. 38. 57. 74. 46. 21. 59. 27. 56. 34.\n",
      " 55. 62. 47. 68. 75. 22. 58. 24. 25. 33. 31. 49. 39. 65. 70. 48. 51. 71.\n",
      " 64. 63. 52. 35. 61. 73. 23.]\n",
      "hypertension : [0 1]\n",
      "heart_disease : [1 0]\n",
      "smoking_history : ['never' 'No Info' 'current' 'former' 'ever' 'not current']\n",
      "bmi : [25.19 27.32 23.45 ... 41.37 14.79 17.56]\n",
      "HbA1c_level : [6.6 5.7 5.  4.8 6.5 6.1 5.8 3.5 6.  4.  6.2 4.5]\n",
      "blood_glucose_level : [140  80 158 155  85 200 145 100 130 160 126 159  90]\n",
      "diabetes : [0 1]\n"
     ]
    }
   ],
   "source": [
    "print_unique(df7)"
   ]
  },
  {
   "cell_type": "markdown",
   "id": "19706d4c-79ab-4e58-bb8a-810d7bc7c57d",
   "metadata": {},
   "source": [
    "# Dropping Unnecessory Columns"
   ]
  },
  {
   "cell_type": "code",
   "execution_count": 34,
   "id": "6c38aedc-e50d-4680-90ac-5ce54f8dbf08",
   "metadata": {},
   "outputs": [
    {
     "name": "stderr",
     "output_type": "stream",
     "text": [
      "C:\\Users\\Arham khan\\AppData\\Local\\Temp\\ipykernel_7524\\3339142588.py:1: SettingWithCopyWarning: \n",
      "A value is trying to be set on a copy of a slice from a DataFrame\n",
      "\n",
      "See the caveats in the documentation: https://pandas.pydata.org/pandas-docs/stable/user_guide/indexing.html#returning-a-view-versus-a-copy\n",
      "  df7.drop(columns='smoking_history',inplace=True)\n"
     ]
    }
   ],
   "source": [
    "df7.drop(columns='smoking_history',inplace=True)"
   ]
  },
  {
   "cell_type": "code",
   "execution_count": 35,
   "id": "c5ed6469-5c5d-4e11-83b4-7fe329d2ddc7",
   "metadata": {},
   "outputs": [
    {
     "name": "stdout",
     "output_type": "stream",
     "text": [
      "gender : [1 0 2]\n",
      "age : [80. 54. 28. 36. 76. 20. 44. 79. 42. 32. 53. 78. 67. 37. 40. 69. 72. 30.\n",
      " 45. 43. 50. 41. 26. 77. 66. 29. 60. 38. 57. 74. 46. 21. 59. 27. 56. 34.\n",
      " 55. 62. 47. 68. 75. 22. 58. 24. 25. 33. 31. 49. 39. 65. 70. 48. 51. 71.\n",
      " 64. 63. 52. 35. 61. 73. 23.]\n",
      "hypertension : [0 1]\n",
      "heart_disease : [1 0]\n",
      "bmi : [25.19 27.32 23.45 ... 41.37 14.79 17.56]\n",
      "HbA1c_level : [6.6 5.7 5.  4.8 6.5 6.1 5.8 3.5 6.  4.  6.2 4.5]\n",
      "blood_glucose_level : [140  80 158 155  85 200 145 100 130 160 126 159  90]\n",
      "diabetes : [0 1]\n"
     ]
    }
   ],
   "source": [
    "print_unique(df7)"
   ]
  },
  {
   "cell_type": "markdown",
   "id": "5b1f7583-3e97-4875-a9e7-5a3f68e71ecd",
   "metadata": {},
   "source": [
    "# Analyzing Diabetes rate"
   ]
  },
  {
   "cell_type": "markdown",
   "id": "3b2dc968-be25-47f8-981c-d34f7ab127ab",
   "metadata": {},
   "source": [
    "# The below Pie chart Showing the gender wise distribution in data"
   ]
  },
  {
   "cell_type": "code",
   "execution_count": 36,
   "id": "41da9603-1147-4034-929d-12ca1285f5e4",
   "metadata": {},
   "outputs": [
    {
     "data": {
      "text/plain": [
       "Text(0.5, 1.0, 'Gender Wise Distribution')"
      ]
     },
     "execution_count": 36,
     "metadata": {},
     "output_type": "execute_result"
    },
    {
     "data": {
      "image/png": "[encoded data removed]",
      "text/plain": [
       "<Figure size 640x480 with 1 Axes>"
      ]
     },
     "metadata": {},
     "output_type": "display_data"
    }
   ],
   "source": [
    "df_male=df7[df7.gender==0]\n",
    "df_female=df7[df7.gender==1]\n",
    "df_others=df7[df7.gender==2]\n",
    "male=df_male.shape[0]\n",
    "female=df_female.shape[0]\n",
    "others=df_others.shape[0]\n",
    "plt.pie([male,female,others],labels=['male','female','others'],colors=['red','blue','green'])\n",
    "plt.title(\"Gender Wise Distribution\")"
   ]
  },
  {
   "cell_type": "markdown",
   "id": "bc0521f4-823b-4c06-b677-271b4782116e",
   "metadata": {},
   "source": [
    "# Analyzing Gender wise rate of Diabetes and non Diabetes Patient"
   ]
  },
  {
   "cell_type": "code",
   "execution_count": 37,
   "id": "88e459a3-500a-49a4-a134-c2a041721732",
   "metadata": {},
   "outputs": [
    {
     "data": {
      "text/plain": [
       "(array([ 0.,  0.,  0.,  0.,  0., 11.,  0.,  0.,  0.,  0.]),\n",
       " array([-0.5, -0.4, -0.3, -0.2, -0.1,  0. ,  0.1,  0.2,  0.3,  0.4,  0.5]),\n",
       " <BarContainer object of 10 artists>)"
      ]
     },
     "execution_count": 37,
     "metadata": {},
     "output_type": "execute_result"
    },
    {
     "data": {
      "image/png": "[encoded data removed]",
      "text/plain": [
       "<Figure size 640x480 with 3 Axes>"
      ]
     },
     "metadata": {},
     "output_type": "display_data"
    }
   ],
   "source": [
    "plt.subplot(2,2,1)\n",
    "plt.hist(df_male.diabetes,color='red')\n",
    "plt.subplot(2,2,3)\n",
    "plt.hist(df_female.diabetes,color='blue')\n",
    "plt.subplot(2,2,4)\n",
    "plt.hist(df_others.diabetes,color='green')"
   ]
  },
  {
   "cell_type": "markdown",
   "id": "30ab5cd6-2846-4db1-93b4-a11004e84457",
   "metadata": {},
   "source": [
    "# After analyzing the diabates columns We conclude that our data is imbalance "
   ]
  },
  {
   "cell_type": "markdown",
   "id": "6ad4dda9-ebe7-4a45-b5ad-8eda2a964c63",
   "metadata": {},
   "source": [
    "# Using Oversampling technique to balance the dataset"
   ]
  },
  {
   "cell_type": "code",
   "execution_count": 38,
   "id": "9c069af8-709b-4f66-9d9d-a9e368a25d6f",
   "metadata": {},
   "outputs": [
    {
     "data": {
      "text/plain": [
       "(69732, 2488)"
      ]
     },
     "execution_count": 38,
     "metadata": {},
     "output_type": "execute_result"
    }
   ],
   "source": [
    "df_0=df7[df7.diabetes==0]\n",
    "df_1=df7[df7.diabetes==1]\n",
    "value_00=df_0.shape[0]\n",
    "value_11=df_1.shape[0]\n",
    "value_00,value_11"
   ]
  },
  {
   "cell_type": "code",
   "execution_count": 39,
   "id": "b838a04e-a0ae-4f02-9f95-4cd07fa2e5fb",
   "metadata": {},
   "outputs": [],
   "source": [
    "df_1_over=df_1.sample(value_00,replace=True)"
   ]
  },
  {
   "cell_type": "code",
   "execution_count": 40,
   "id": "4e22ebe6-42bf-4fe0-b506-1e55f536cd4d",
   "metadata": {},
   "outputs": [
    {
     "data": {
      "text/plain": [
       "(139464, 8)"
      ]
     },
     "execution_count": 40,
     "metadata": {},
     "output_type": "execute_result"
    }
   ],
   "source": [
    "df8=pd.concat([df_0,df_1_over],axis=0)\n",
    "df8.shape"
   ]
  },
  {
   "cell_type": "code",
   "execution_count": 41,
   "id": "be47fd2c-3c04-4a78-9573-8d747ceed5c6",
   "metadata": {},
   "outputs": [
    {
     "data": {
      "text/plain": [
       "(69732, 69732)"
      ]
     },
     "execution_count": 41,
     "metadata": {},
     "output_type": "execute_result"
    }
   ],
   "source": [
    "df_0=df8[df8.diabetes==0]\n",
    "df_1=df8[df8.diabetes==1]\n",
    "value_0=df_0.shape[0]\n",
    "value_1=df_1.shape[0]\n",
    "value_0,value_1"
   ]
  },
  {
   "cell_type": "code",
   "execution_count": 42,
   "id": "2306d427-bce9-4527-98fb-50a444dcfdea",
   "metadata": {},
   "outputs": [
    {
     "data": {
      "text/plain": [
       "Text(0.5, 1.0, 'Ratio Between Diabetes and Non Diabetes(After OverSampling)')"
      ]
     },
     "execution_count": 42,
     "metadata": {},
     "output_type": "execute_result"
    },
    {
     "data": {
      "image/png": "[encoded data removed]",
      "text/plain": [
       "<Figure size 640x480 with 2 Axes>"
      ]
     },
     "metadata": {},
     "output_type": "display_data"
    }
   ],
   "source": [
    "plt.subplot(2,2,1)\n",
    "plt.pie([value_00,value_11],labels=[\"Non Diabetes\",\"Diabetes\"])\n",
    "plt.title(\"Ratio Between Diabetes and Non Diabetes(Before OverSampling\")\n",
    "plt.subplot(2,2,4)\n",
    "plt.pie([value_0,value_1],labels=[\"Non Diabetes\",\"Diabetes\"])\n",
    "plt.title(\"Ratio Between Diabetes and Non Diabetes(After OverSampling)\")"
   ]
  },
  {
   "cell_type": "markdown",
   "id": "e3cd653f-da1a-4abc-88ce-05266f1338a2",
   "metadata": {},
   "source": [
    "# Data PreProcessing , Sacling"
   ]
  },
  {
   "cell_type": "code",
   "execution_count": 43,
   "id": "f833f782-516e-4472-ad96-ac40bf168797",
   "metadata": {},
   "outputs": [
    {
     "name": "stdout",
     "output_type": "stream",
     "text": [
      "gender : [1 0 2]\n",
      "age : [80. 54. 28. 36. 76. 20. 79. 42. 32. 53. 78. 67. 37. 40. 69. 72. 30. 45.\n",
      " 43. 50. 41. 26. 77. 66. 44. 29. 60. 38. 57. 74. 46. 21. 59. 27. 56. 34.\n",
      " 55. 62. 47. 68. 75. 22. 58. 24. 25. 33. 31. 49. 39. 65. 70. 48. 51. 71.\n",
      " 52. 63. 35. 61. 73. 23. 64.]\n",
      "hypertension : [0 1]\n",
      "heart_disease : [1 0]\n",
      "bmi : [25.19 27.32 23.45 ... 42.15 12.91 13.2 ]\n",
      "HbA1c_level : [6.6 5.7 5.  4.8 6.1 5.8 3.5 6.  6.5 4.  6.2 4.5]\n",
      "blood_glucose_level : [140  80 158 155  85 145 100 130 200 160 126 159  90]\n",
      "diabetes : [0 1]\n"
     ]
    }
   ],
   "source": [
    "print_unique(df8)"
   ]
  },
  {
   "cell_type": "code",
   "execution_count": 44,
   "id": "bfd45c40-1b58-4199-8be2-6b1609734669",
   "metadata": {},
   "outputs": [
    {
     "data": {
      "text/plain": [
       "count    139464.000000\n",
       "mean         55.347660\n",
       "std          17.094783\n",
       "min          20.000000\n",
       "25%          43.000000\n",
       "50%          57.000000\n",
       "75%          69.000000\n",
       "max          80.000000\n",
       "Name: age, dtype: float64"
      ]
     },
     "execution_count": 44,
     "metadata": {},
     "output_type": "execute_result"
    }
   ],
   "source": [
    "df8.age.describe()"
   ]
  },
  {
   "cell_type": "code",
   "execution_count": 45,
   "id": "e41491a3-5322-486c-84f9-1d13082b12a3",
   "metadata": {},
   "outputs": [],
   "source": [
    "df8['age']=df8['age']/100\n",
    "df8['bmi']=df8['bmi']/100\n",
    "df8['blood_glucose_level']=df8['blood_glucose_level']/100"
   ]
  },
  {
   "cell_type": "code",
   "execution_count": 46,
   "id": "57fce336-3eb8-4145-92b6-61ab1fea5009",
   "metadata": {},
   "outputs": [
    {
     "data": {
      "text/html": [
       "<div>\n",
       "<style scoped>\n",
       "    .dataframe tbody tr th:only-of-type {\n",
       "        vertical-align: middle;\n",
       "    }\n",
       "\n",
       "    .dataframe tbody tr th {\n",
       "        vertical-align: top;\n",
       "    }\n",
       "\n",
       "    .dataframe thead th {\n",
       "        text-align: right;\n",
       "    }\n",
       "</style>\n",
       "<table border=\"1\" class=\"dataframe\">\n",
       "  <thead>\n",
       "    <tr style=\"text-align: right;\">\n",
       "      <th></th>\n",
       "      <th>gender</th>\n",
       "      <th>age</th>\n",
       "      <th>hypertension</th>\n",
       "      <th>heart_disease</th>\n",
       "      <th>bmi</th>\n",
       "      <th>HbA1c_level</th>\n",
       "      <th>blood_glucose_level</th>\n",
       "      <th>diabetes</th>\n",
       "    </tr>\n",
       "  </thead>\n",
       "  <tbody>\n",
       "    <tr>\n",
       "      <th>0</th>\n",
       "      <td>1</td>\n",
       "      <td>0.80</td>\n",
       "      <td>0</td>\n",
       "      <td>1</td>\n",
       "      <td>0.2519</td>\n",
       "      <td>6.6</td>\n",
       "      <td>1.40</td>\n",
       "      <td>0</td>\n",
       "    </tr>\n",
       "    <tr>\n",
       "      <th>1</th>\n",
       "      <td>1</td>\n",
       "      <td>0.54</td>\n",
       "      <td>0</td>\n",
       "      <td>0</td>\n",
       "      <td>0.2732</td>\n",
       "      <td>6.6</td>\n",
       "      <td>0.80</td>\n",
       "      <td>0</td>\n",
       "    </tr>\n",
       "    <tr>\n",
       "      <th>2</th>\n",
       "      <td>0</td>\n",
       "      <td>0.28</td>\n",
       "      <td>0</td>\n",
       "      <td>0</td>\n",
       "      <td>0.2732</td>\n",
       "      <td>5.7</td>\n",
       "      <td>1.58</td>\n",
       "      <td>0</td>\n",
       "    </tr>\n",
       "    <tr>\n",
       "      <th>3</th>\n",
       "      <td>1</td>\n",
       "      <td>0.36</td>\n",
       "      <td>0</td>\n",
       "      <td>0</td>\n",
       "      <td>0.2345</td>\n",
       "      <td>5.0</td>\n",
       "      <td>1.55</td>\n",
       "      <td>0</td>\n",
       "    </tr>\n",
       "    <tr>\n",
       "      <th>4</th>\n",
       "      <td>0</td>\n",
       "      <td>0.76</td>\n",
       "      <td>1</td>\n",
       "      <td>1</td>\n",
       "      <td>0.2014</td>\n",
       "      <td>4.8</td>\n",
       "      <td>1.55</td>\n",
       "      <td>0</td>\n",
       "    </tr>\n",
       "  </tbody>\n",
       "</table>\n",
       "</div>"
      ],
      "text/plain": [
       "   gender   age  hypertension  heart_disease     bmi  HbA1c_level  \\\n",
       "0       1  0.80             0              1  0.2519          6.6   \n",
       "1       1  0.54             0              0  0.2732          6.6   \n",
       "2       0  0.28             0              0  0.2732          5.7   \n",
       "3       1  0.36             0              0  0.2345          5.0   \n",
       "4       0  0.76             1              1  0.2014          4.8   \n",
       "\n",
       "   blood_glucose_level  diabetes  \n",
       "0                 1.40         0  \n",
       "1                 0.80         0  \n",
       "2                 1.58         0  \n",
       "3                 1.55         0  \n",
       "4                 1.55         0  "
      ]
     },
     "execution_count": 46,
     "metadata": {},
     "output_type": "execute_result"
    }
   ],
   "source": [
    "df8.head()"
   ]
  },
  {
   "cell_type": "code",
   "execution_count": 47,
   "id": "2179c3a3-563e-44f5-84b3-7374f5ed62a4",
   "metadata": {},
   "outputs": [
    {
     "name": "stdout",
     "output_type": "stream",
     "text": [
      "gender : [1 0 2]\n",
      "age : [0.8  0.54 0.28 0.36 0.76 0.2  0.79 0.42 0.32 0.53 0.78 0.67 0.37 0.4\n",
      " 0.69 0.72 0.3  0.45 0.43 0.5  0.41 0.26 0.77 0.66 0.44 0.29 0.6  0.38\n",
      " 0.57 0.74 0.46 0.21 0.59 0.27 0.56 0.34 0.55 0.62 0.47 0.68 0.75 0.22\n",
      " 0.58 0.24 0.25 0.33 0.31 0.49 0.39 0.65 0.7  0.48 0.51 0.71 0.52 0.63\n",
      " 0.35 0.61 0.73 0.23 0.64]\n",
      "hypertension : [0 1]\n",
      "heart_disease : [1 0]\n",
      "bmi : [0.2519 0.2732 0.2345 ... 0.4215 0.1291 0.132 ]\n",
      "HbA1c_level : [6.6 5.7 5.  4.8 6.1 5.8 3.5 6.  6.5 4.  6.2 4.5]\n",
      "blood_glucose_level : [1.4  0.8  1.58 1.55 0.85 1.45 1.   1.3  2.   1.6  1.26 1.59 0.9 ]\n",
      "diabetes : [0 1]\n"
     ]
    }
   ],
   "source": [
    "print_unique(df8)"
   ]
  },
  {
   "cell_type": "markdown",
   "id": "ae99c25a-b789-4319-b582-e1d7a0b49d51",
   "metadata": {},
   "source": [
    "# Now Data Transformation , Cleaning , Pre Processing is done , and I am starting to build model"
   ]
  },
  {
   "cell_type": "markdown",
   "id": "73c82d35-1b9d-486d-9471-0cb064efaac1",
   "metadata": {},
   "source": [
    "## Creating X and Y columns"
   ]
  },
  {
   "cell_type": "code",
   "execution_count": 48,
   "id": "b671d84c-1004-42d4-8916-37b14344ad62",
   "metadata": {},
   "outputs": [
    {
     "data": {
      "text/html": [
       "<div>\n",
       "<style scoped>\n",
       "    .dataframe tbody tr th:only-of-type {\n",
       "        vertical-align: middle;\n",
       "    }\n",
       "\n",
       "    .dataframe tbody tr th {\n",
       "        vertical-align: top;\n",
       "    }\n",
       "\n",
       "    .dataframe thead th {\n",
       "        text-align: right;\n",
       "    }\n",
       "</style>\n",
       "<table border=\"1\" class=\"dataframe\">\n",
       "  <thead>\n",
       "    <tr style=\"text-align: right;\">\n",
       "      <th></th>\n",
       "      <th>gender</th>\n",
       "      <th>age</th>\n",
       "      <th>hypertension</th>\n",
       "      <th>heart_disease</th>\n",
       "      <th>bmi</th>\n",
       "      <th>HbA1c_level</th>\n",
       "      <th>blood_glucose_level</th>\n",
       "      <th>diabetes</th>\n",
       "    </tr>\n",
       "  </thead>\n",
       "  <tbody>\n",
       "    <tr>\n",
       "      <th>0</th>\n",
       "      <td>1</td>\n",
       "      <td>0.80</td>\n",
       "      <td>0</td>\n",
       "      <td>1</td>\n",
       "      <td>0.2519</td>\n",
       "      <td>6.6</td>\n",
       "      <td>1.40</td>\n",
       "      <td>0</td>\n",
       "    </tr>\n",
       "    <tr>\n",
       "      <th>1</th>\n",
       "      <td>1</td>\n",
       "      <td>0.54</td>\n",
       "      <td>0</td>\n",
       "      <td>0</td>\n",
       "      <td>0.2732</td>\n",
       "      <td>6.6</td>\n",
       "      <td>0.80</td>\n",
       "      <td>0</td>\n",
       "    </tr>\n",
       "    <tr>\n",
       "      <th>2</th>\n",
       "      <td>0</td>\n",
       "      <td>0.28</td>\n",
       "      <td>0</td>\n",
       "      <td>0</td>\n",
       "      <td>0.2732</td>\n",
       "      <td>5.7</td>\n",
       "      <td>1.58</td>\n",
       "      <td>0</td>\n",
       "    </tr>\n",
       "    <tr>\n",
       "      <th>3</th>\n",
       "      <td>1</td>\n",
       "      <td>0.36</td>\n",
       "      <td>0</td>\n",
       "      <td>0</td>\n",
       "      <td>0.2345</td>\n",
       "      <td>5.0</td>\n",
       "      <td>1.55</td>\n",
       "      <td>0</td>\n",
       "    </tr>\n",
       "    <tr>\n",
       "      <th>4</th>\n",
       "      <td>0</td>\n",
       "      <td>0.76</td>\n",
       "      <td>1</td>\n",
       "      <td>1</td>\n",
       "      <td>0.2014</td>\n",
       "      <td>4.8</td>\n",
       "      <td>1.55</td>\n",
       "      <td>0</td>\n",
       "    </tr>\n",
       "  </tbody>\n",
       "</table>\n",
       "</div>"
      ],
      "text/plain": [
       "   gender   age  hypertension  heart_disease     bmi  HbA1c_level  \\\n",
       "0       1  0.80             0              1  0.2519          6.6   \n",
       "1       1  0.54             0              0  0.2732          6.6   \n",
       "2       0  0.28             0              0  0.2732          5.7   \n",
       "3       1  0.36             0              0  0.2345          5.0   \n",
       "4       0  0.76             1              1  0.2014          4.8   \n",
       "\n",
       "   blood_glucose_level  diabetes  \n",
       "0                 1.40         0  \n",
       "1                 0.80         0  \n",
       "2                 1.58         0  \n",
       "3                 1.55         0  \n",
       "4                 1.55         0  "
      ]
     },
     "execution_count": 48,
     "metadata": {},
     "output_type": "execute_result"
    }
   ],
   "source": [
    "df8.head()"
   ]
  },
  {
   "cell_type": "code",
   "execution_count": 49,
   "id": "79ae9a6d-bf7d-4cbf-ac26-6877457846df",
   "metadata": {},
   "outputs": [],
   "source": [
    "y=df8[['diabetes']]\n",
    "x=df8.drop(columns='diabetes')"
   ]
  },
  {
   "cell_type": "markdown",
   "id": "27cf62d7-24ec-4f3a-9f1b-dbabea98e955",
   "metadata": {},
   "source": [
    "# Splitting Dataset Into training and testing part"
   ]
  },
  {
   "cell_type": "code",
   "execution_count": 50,
   "id": "23e9bbbe-6eed-4eef-ba6c-17e8f8e5c653",
   "metadata": {},
   "outputs": [
    {
     "data": {
      "text/plain": [
       "((111571, 7), (27893, 7), (111571, 1), (27893, 1))"
      ]
     },
     "execution_count": 50,
     "metadata": {},
     "output_type": "execute_result"
    }
   ],
   "source": [
    "x_train,x_test,y_train,y_test=train_test_split(x,y,test_size=0.2,random_state=5)\n",
    "x_train.shape,x_test.shape,y_train.shape,y_test.shape"
   ]
  },
  {
   "cell_type": "markdown",
   "id": "30e9be94-8883-4ec0-be78-201fdcbf16f7",
   "metadata": {},
   "source": [
    "# Developing Machine Learning Model Using RandomForestClassifier to Classify the Data "
   ]
  },
  {
   "cell_type": "code",
   "execution_count": 51,
   "id": "1dfd2985-7394-4317-9bf6-60ebeebdf4e7",
   "metadata": {},
   "outputs": [
    {
     "name": "stderr",
     "output_type": "stream",
     "text": [
      "C:\\Users\\Arham khan\\AppData\\Local\\Programs\\Python\\Python312\\Lib\\site-packages\\sklearn\\base.py:1474: DataConversionWarning: A column-vector y was passed when a 1d array was expected. Please change the shape of y to (n_samples,), for example using ravel().\n",
      "  return fit_method(estimator, *args, **kwargs)\n"
     ]
    },
    {
     "data": {
      "text/html": [
       "<style>#sk-container-id-1 {\n",
       "  /* Definition of color scheme common for light and dark mode */\n",
       "  --sklearn-color-text: black;\n",
       "  --sklearn-color-line: gray;\n",
       "  /* Definition of color scheme for unfitted estimators */\n",
       "  --sklearn-color-unfitted-level-0: #fff5e6;\n",
       "  --sklearn-color-unfitted-level-1: #f6e4d2;\n",
       "  --sklearn-color-unfitted-level-2: #ffe0b3;\n",
       "  --sklearn-color-unfitted-level-3: chocolate;\n",
       "  /* Definition of color scheme for fitted estimators */\n",
       "  --sklearn-color-fitted-level-0: #f0f8ff;\n",
       "  --sklearn-color-fitted-level-1: #d4ebff;\n",
       "  --sklearn-color-fitted-level-2: #b3dbfd;\n",
       "  --sklearn-color-fitted-level-3: cornflowerblue;\n",
       "\n",
       "  /* Specific color for light theme */\n",
       "  --sklearn-color-text-on-default-background: var(--sg-text-color, var(--theme-code-foreground, var(--jp-content-font-color1, black)));\n",
       "  --sklearn-color-background: var(--sg-background-color, var(--theme-background, var(--jp-layout-color0, white)));\n",
       "  --sklearn-color-border-box: var(--sg-text-color, var(--theme-code-foreground, var(--jp-content-font-color1, black)));\n",
       "  --sklearn-color-icon: #696969;\n",
       "\n",
       "  @media (prefers-color-scheme: dark) {\n",
       "    /* Redefinition of color scheme for dark theme */\n",
       "    --sklearn-color-text-on-default-background: var(--sg-text-color, var(--theme-code-foreground, var(--jp-content-font-color1, white)));\n",
       "    --sklearn-color-background: var(--sg-background-color, var(--theme-background, var(--jp-layout-color0, #111)));\n",
       "    --sklearn-color-border-box: var(--sg-text-color, var(--theme-code-foreground, var(--jp-content-font-color1, white)));\n",
       "    --sklearn-color-icon: #878787;\n",
       "  }\n",
       "}\n",
       "\n",
       "#sk-container-id-1 {\n",
       "  color: var(--sklearn-color-text);\n",
       "}\n",
       "\n",
       "#sk-container-id-1 pre {\n",
       "  padding: 0;\n",
       "}\n",
       "\n",
       "#sk-container-id-1 input.sk-hidden--visually {\n",
       "  border: 0;\n",
       "  clip: rect(1px 1px 1px 1px);\n",
       "  clip: rect(1px, 1px, 1px, 1px);\n",
       "  height: 1px;\n",
       "  margin: -1px;\n",
       "  overflow: hidden;\n",
       "  padding: 0;\n",
       "  position: absolute;\n",
       "  width: 1px;\n",
       "}\n",
       "\n",
       "#sk-container-id-1 div.sk-dashed-wrapped {\n",
       "  border: 1px dashed var(--sklearn-color-line);\n",
       "  margin: 0 0.4em 0.5em 0.4em;\n",
       "  box-sizing: border-box;\n",
       "  padding-bottom: 0.4em;\n",
       "  background-color: var(--sklearn-color-background);\n",
       "}\n",
       "\n",
       "#sk-container-id-1 div.sk-container {\n",
       "  /* jupyter's `normalize.less` sets `[hidden] { display: none; }`\n",
       "     but bootstrap.min.css set `[hidden] { display: none !important; }`\n",
       "     so we also need the `!important` here to be able to override the\n",
       "     default hidden behavior on the sphinx rendered scikit-learn.org.\n",
       "     See: https://github.com/scikit-learn/scikit-learn/issues/21755 */\n",
       "  display: inline-block !important;\n",
       "  position: relative;\n",
       "}\n",
       "\n",
       "#sk-container-id-1 div.sk-text-repr-fallback {\n",
       "  display: none;\n",
       "}\n",
       "\n",
       "div.sk-parallel-item,\n",
       "div.sk-serial,\n",
       "div.sk-item {\n",
       "  /* draw centered vertical line to link estimators */\n",
       "  background-image: linear-gradient(var(--sklearn-color-text-on-default-background), var(--sklearn-color-text-on-default-background));\n",
       "  background-size: 2px 100%;\n",
       "  background-repeat: no-repeat;\n",
       "  background-position: center center;\n",
       "}\n",
       "\n",
       "/* Parallel-specific style estimator block */\n",
       "\n",
       "#sk-container-id-1 div.sk-parallel-item::after {\n",
       "  content: \"\";\n",
       "  width: 100%;\n",
       "  border-bottom: 2px solid var(--sklearn-color-text-on-default-background);\n",
       "  flex-grow: 1;\n",
       "}\n",
       "\n",
       "#sk-container-id-1 div.sk-parallel {\n",
       "  display: flex;\n",
       "  align-items: stretch;\n",
       "  justify-content: center;\n",
       "  background-color: var(--sklearn-color-background);\n",
       "  position: relative;\n",
       "}\n",
       "\n",
       "#sk-container-id-1 div.sk-parallel-item {\n",
       "  display: flex;\n",
       "  flex-direction: column;\n",
       "}\n",
       "\n",
       "#sk-container-id-1 div.sk-parallel-item:first-child::after {\n",
       "  align-self: flex-end;\n",
       "  width: 50%;\n",
       "}\n",
       "\n",
       "#sk-container-id-1 div.sk-parallel-item:last-child::after {\n",
       "  align-self: flex-start;\n",
       "  width: 50%;\n",
       "}\n",
       "\n",
       "#sk-container-id-1 div.sk-parallel-item:only-child::after {\n",
       "  width: 0;\n",
       "}\n",
       "\n",
       "/* Serial-specific style estimator block */\n",
       "\n",
       "#sk-container-id-1 div.sk-serial {\n",
       "  display: flex;\n",
       "  flex-direction: column;\n",
       "  align-items: center;\n",
       "  background-color: var(--sklearn-color-background);\n",
       "  padding-right: 1em;\n",
       "  padding-left: 1em;\n",
       "}\n",
       "\n",
       "\n",
       "/* Toggleable style: style used for estimator/Pipeline/ColumnTransformer box that is\n",
       "clickable and can be expanded/collapsed.\n",
       "- Pipeline and ColumnTransformer use this feature and define the default style\n",
       "- Estimators will overwrite some part of the style using the `sk-estimator` class\n",
       "*/\n",
       "\n",
       "/* Pipeline and ColumnTransformer style (default) */\n",
       "\n",
       "#sk-container-id-1 div.sk-toggleable {\n",
       "  /* Default theme specific background. It is overwritten whether we have a\n",
       "  specific estimator or a Pipeline/ColumnTransformer */\n",
       "  background-color: var(--sklearn-color-background);\n",
       "}\n",
       "\n",
       "/* Toggleable label */\n",
       "#sk-container-id-1 label.sk-toggleable__label {\n",
       "  cursor: pointer;\n",
       "  display: block;\n",
       "  width: 100%;\n",
       "  margin-bottom: 0;\n",
       "  padding: 0.5em;\n",
       "  box-sizing: border-box;\n",
       "  text-align: center;\n",
       "}\n",
       "\n",
       "#sk-container-id-1 label.sk-toggleable__label-arrow:before {\n",
       "  /* Arrow on the left of the label */\n",
       "  content: \"▸\";\n",
       "  float: left;\n",
       "  margin-right: 0.25em;\n",
       "  color: var(--sklearn-color-icon);\n",
       "}\n",
       "\n",
       "#sk-container-id-1 label.sk-toggleable__label-arrow:hover:before {\n",
       "  color: var(--sklearn-color-text);\n",
       "}\n",
       "\n",
       "/* Toggleable content - dropdown */\n",
       "\n",
       "#sk-container-id-1 div.sk-toggleable__content {\n",
       "  max-height: 0;\n",
       "  max-width: 0;\n",
       "  overflow: hidden;\n",
       "  text-align: left;\n",
       "  /* unfitted */\n",
       "  background-color: var(--sklearn-color-unfitted-level-0);\n",
       "}\n",
       "\n",
       "#sk-container-id-1 div.sk-toggleable__content.fitted {\n",
       "  /* fitted */\n",
       "  background-color: var(--sklearn-color-fitted-level-0);\n",
       "}\n",
       "\n",
       "#sk-container-id-1 div.sk-toggleable__content pre {\n",
       "  margin: 0.2em;\n",
       "  border-radius: 0.25em;\n",
       "  color: var(--sklearn-color-text);\n",
       "  /* unfitted */\n",
       "  background-color: var(--sklearn-color-unfitted-level-0);\n",
       "}\n",
       "\n",
       "#sk-container-id-1 div.sk-toggleable__content.fitted pre {\n",
       "  /* unfitted */\n",
       "  background-color: var(--sklearn-color-fitted-level-0);\n",
       "}\n",
       "\n",
       "#sk-container-id-1 input.sk-toggleable__control:checked~div.sk-toggleable__content {\n",
       "  /* Expand drop-down */\n",
       "  max-height: 200px;\n",
       "  max-width: 100%;\n",
       "  overflow: auto;\n",
       "}\n",
       "\n",
       "#sk-container-id-1 input.sk-toggleable__control:checked~label.sk-toggleable__label-arrow:before {\n",
       "  content: \"▾\";\n",
       "}\n",
       "\n",
       "/* Pipeline/ColumnTransformer-specific style */\n",
       "\n",
       "#sk-container-id-1 div.sk-label input.sk-toggleable__control:checked~label.sk-toggleable__label {\n",
       "  color: var(--sklearn-color-text);\n",
       "  background-color: var(--sklearn-color-unfitted-level-2);\n",
       "}\n",
       "\n",
       "#sk-container-id-1 div.sk-label.fitted input.sk-toggleable__control:checked~label.sk-toggleable__label {\n",
       "  background-color: var(--sklearn-color-fitted-level-2);\n",
       "}\n",
       "\n",
       "/* Estimator-specific style */\n",
       "\n",
       "/* Colorize estimator box */\n",
       "#sk-container-id-1 div.sk-estimator input.sk-toggleable__control:checked~label.sk-toggleable__label {\n",
       "  /* unfitted */\n",
       "  background-color: var(--sklearn-color-unfitted-level-2);\n",
       "}\n",
       "\n",
       "#sk-container-id-1 div.sk-estimator.fitted input.sk-toggleable__control:checked~label.sk-toggleable__label {\n",
       "  /* fitted */\n",
       "  background-color: var(--sklearn-color-fitted-level-2);\n",
       "}\n",
       "\n",
       "#sk-container-id-1 div.sk-label label.sk-toggleable__label,\n",
       "#sk-container-id-1 div.sk-label label {\n",
       "  /* The background is the default theme color */\n",
       "  color: var(--sklearn-color-text-on-default-background);\n",
       "}\n",
       "\n",
       "/* On hover, darken the color of the background */\n",
       "#sk-container-id-1 div.sk-label:hover label.sk-toggleable__label {\n",
       "  color: var(--sklearn-color-text);\n",
       "  background-color: var(--sklearn-color-unfitted-level-2);\n",
       "}\n",
       "\n",
       "/* Label box, darken color on hover, fitted */\n",
       "#sk-container-id-1 div.sk-label.fitted:hover label.sk-toggleable__label.fitted {\n",
       "  color: var(--sklearn-color-text);\n",
       "  background-color: var(--sklearn-color-fitted-level-2);\n",
       "}\n",
       "\n",
       "/* Estimator label */\n",
       "\n",
       "#sk-container-id-1 div.sk-label label {\n",
       "  font-family: monospace;\n",
       "  font-weight: bold;\n",
       "  display: inline-block;\n",
       "  line-height: 1.2em;\n",
       "}\n",
       "\n",
       "#sk-container-id-1 div.sk-label-container {\n",
       "  text-align: center;\n",
       "}\n",
       "\n",
       "/* Estimator-specific */\n",
       "#sk-container-id-1 div.sk-estimator {\n",
       "  font-family: monospace;\n",
       "  border: 1px dotted var(--sklearn-color-border-box);\n",
       "  border-radius: 0.25em;\n",
       "  box-sizing: border-box;\n",
       "  margin-bottom: 0.5em;\n",
       "  /* unfitted */\n",
       "  background-color: var(--sklearn-color-unfitted-level-0);\n",
       "}\n",
       "\n",
       "#sk-container-id-1 div.sk-estimator.fitted {\n",
       "  /* fitted */\n",
       "  background-color: var(--sklearn-color-fitted-level-0);\n",
       "}\n",
       "\n",
       "/* on hover */\n",
       "#sk-container-id-1 div.sk-estimator:hover {\n",
       "  /* unfitted */\n",
       "  background-color: var(--sklearn-color-unfitted-level-2);\n",
       "}\n",
       "\n",
       "#sk-container-id-1 div.sk-estimator.fitted:hover {\n",
       "  /* fitted */\n",
       "  background-color: var(--sklearn-color-fitted-level-2);\n",
       "}\n",
       "\n",
       "/* Specification for estimator info (e.g. \"i\" and \"?\") */\n",
       "\n",
       "/* Common style for \"i\" and \"?\" */\n",
       "\n",
       ".sk-estimator-doc-link,\n",
       "a:link.sk-estimator-doc-link,\n",
       "a:visited.sk-estimator-doc-link {\n",
       "  float: right;\n",
       "  font-size: smaller;\n",
       "  line-height: 1em;\n",
       "  font-family: monospace;\n",
       "  background-color: var(--sklearn-color-background);\n",
       "  border-radius: 1em;\n",
       "  height: 1em;\n",
       "  width: 1em;\n",
       "  text-decoration: none !important;\n",
       "  margin-left: 1ex;\n",
       "  /* unfitted */\n",
       "  border: var(--sklearn-color-unfitted-level-1) 1pt solid;\n",
       "  color: var(--sklearn-color-unfitted-level-1);\n",
       "}\n",
       "\n",
       ".sk-estimator-doc-link.fitted,\n",
       "a:link.sk-estimator-doc-link.fitted,\n",
       "a:visited.sk-estimator-doc-link.fitted {\n",
       "  /* fitted */\n",
       "  border: var(--sklearn-color-fitted-level-1) 1pt solid;\n",
       "  color: var(--sklearn-color-fitted-level-1);\n",
       "}\n",
       "\n",
       "/* On hover */\n",
       "div.sk-estimator:hover .sk-estimator-doc-link:hover,\n",
       ".sk-estimator-doc-link:hover,\n",
       "div.sk-label-container:hover .sk-estimator-doc-link:hover,\n",
       ".sk-estimator-doc-link:hover {\n",
       "  /* unfitted */\n",
       "  background-color: var(--sklearn-color-unfitted-level-3);\n",
       "  color: var(--sklearn-color-background);\n",
       "  text-decoration: none;\n",
       "}\n",
       "\n",
       "div.sk-estimator.fitted:hover .sk-estimator-doc-link.fitted:hover,\n",
       ".sk-estimator-doc-link.fitted:hover,\n",
       "div.sk-label-container:hover .sk-estimator-doc-link.fitted:hover,\n",
       ".sk-estimator-doc-link.fitted:hover {\n",
       "  /* fitted */\n",
       "  background-color: var(--sklearn-color-fitted-level-3);\n",
       "  color: var(--sklearn-color-background);\n",
       "  text-decoration: none;\n",
       "}\n",
       "\n",
       "/* Span, style for the box shown on hovering the info icon */\n",
       ".sk-estimator-doc-link span {\n",
       "  display: none;\n",
       "  z-index: 9999;\n",
       "  position: relative;\n",
       "  font-weight: normal;\n",
       "  right: .2ex;\n",
       "  padding: .5ex;\n",
       "  margin: .5ex;\n",
       "  width: min-content;\n",
       "  min-width: 20ex;\n",
       "  max-width: 50ex;\n",
       "  color: var(--sklearn-color-text);\n",
       "  box-shadow: 2pt 2pt 4pt #999;\n",
       "  /* unfitted */\n",
       "  background: var(--sklearn-color-unfitted-level-0);\n",
       "  border: .5pt solid var(--sklearn-color-unfitted-level-3);\n",
       "}\n",
       "\n",
       ".sk-estimator-doc-link.fitted span {\n",
       "  /* fitted */\n",
       "  background: var(--sklearn-color-fitted-level-0);\n",
       "  border: var(--sklearn-color-fitted-level-3);\n",
       "}\n",
       "\n",
       ".sk-estimator-doc-link:hover span {\n",
       "  display: block;\n",
       "}\n",
       "\n",
       "/* \"?\"-specific style due to the `<a>` HTML tag */\n",
       "\n",
       "#sk-container-id-1 a.estimator_doc_link {\n",
       "  float: right;\n",
       "  font-size: 1rem;\n",
       "  line-height: 1em;\n",
       "  font-family: monospace;\n",
       "  background-color: var(--sklearn-color-background);\n",
       "  border-radius: 1rem;\n",
       "  height: 1rem;\n",
       "  width: 1rem;\n",
       "  text-decoration: none;\n",
       "  /* unfitted */\n",
       "  color: var(--sklearn-color-unfitted-level-1);\n",
       "  border: var(--sklearn-color-unfitted-level-1) 1pt solid;\n",
       "}\n",
       "\n",
       "#sk-container-id-1 a.estimator_doc_link.fitted {\n",
       "  /* fitted */\n",
       "  border: var(--sklearn-color-fitted-level-1) 1pt solid;\n",
       "  color: var(--sklearn-color-fitted-level-1);\n",
       "}\n",
       "\n",
       "/* On hover */\n",
       "#sk-container-id-1 a.estimator_doc_link:hover {\n",
       "  /* unfitted */\n",
       "  background-color: var(--sklearn-color-unfitted-level-3);\n",
       "  color: var(--sklearn-color-background);\n",
       "  text-decoration: none;\n",
       "}\n",
       "\n",
       "#sk-container-id-1 a.estimator_doc_link.fitted:hover {\n",
       "  /* fitted */\n",
       "  background-color: var(--sklearn-color-fitted-level-3);\n",
       "}\n",
       "</style><div id=\"sk-container-id-1\" class=\"sk-top-container\"><div class=\"sk-text-repr-fallback\"><pre>RandomForestClassifier()</pre><b>In a Jupyter environment, please rerun this cell to show the HTML representation or trust the notebook. <br />On GitHub, the HTML representation is unable to render, please try loading this page with nbviewer.org.</b></div><div class=\"sk-container\" hidden><div class=\"sk-item\"><div class=\"sk-estimator fitted sk-toggleable\"><input class=\"sk-toggleable__control sk-hidden--visually\" id=\"sk-estimator-id-1\" type=\"checkbox\" checked><label for=\"sk-estimator-id-1\" class=\"sk-toggleable__label fitted sk-toggleable__label-arrow fitted\">&nbsp;&nbsp;RandomForestClassifier<a class=\"sk-estimator-doc-link fitted\" rel=\"noreferrer\" target=\"_blank\" href=\"https://scikit-learn.org/1.4/modules/generated/sklearn.ensemble.RandomForestClassifier.html\">?<span>Documentation for RandomForestClassifier</span></a><span class=\"sk-estimator-doc-link fitted\">i<span>Fitted</span></span></label><div class=\"sk-toggleable__content fitted\"><pre>RandomForestClassifier()</pre></div> </div></div></div></div>"
      ],
      "text/plain": [
       "RandomForestClassifier()"
      ]
     },
     "execution_count": 51,
     "metadata": {},
     "output_type": "execute_result"
    }
   ],
   "source": [
    "model=RandomForestClassifier()\n",
    "model.fit(x_train,y_train)"
   ]
  },
  {
   "cell_type": "markdown",
   "id": "7eb4bc6a-a0a9-4d0e-8ac4-95834699cbce",
   "metadata": {},
   "source": [
    "# Test Model on test dataset and got accuracy of 98.7 Percent "
   ]
  },
  {
   "cell_type": "code",
   "execution_count": 53,
   "id": "a81cbf60-c817-4da4-992f-8ed2e4974e6b",
   "metadata": {},
   "outputs": [
    {
     "data": {
      "text/plain": [
       "98.76"
      ]
     },
     "execution_count": 53,
     "metadata": {},
     "output_type": "execute_result"
    }
   ],
   "source": [
    "accuracy=round(((model.score(x_test,y_test))*100),2)\n",
    "accuracy"
   ]
  },
  {
   "cell_type": "code",
   "execution_count": 54,
   "id": "6ac8aaf7-be5d-4e57-9354-626e35725ef2",
   "metadata": {},
   "outputs": [],
   "source": [
    "prediction=model.predict(x_test)"
   ]
  },
  {
   "cell_type": "markdown",
   "id": "b49b4637-35bd-4ad5-9133-1e03a35ff8cb",
   "metadata": {},
   "source": [
    "# Classification Report , Got Precision , Recall and F1 score above 99 percent "
   ]
  },
  {
   "cell_type": "code",
   "execution_count": 55,
   "id": "5b778d63-3c57-4b2c-8440-84501eedecc3",
   "metadata": {},
   "outputs": [
    {
     "name": "stdout",
     "output_type": "stream",
     "text": [
      "              precision    recall  f1-score   support\n",
      "\n",
      "           0       1.00      0.98      0.99     13956\n",
      "           1       0.98      1.00      0.99     13937\n",
      "\n",
      "    accuracy                           0.99     27893\n",
      "   macro avg       0.99      0.99      0.99     27893\n",
      "weighted avg       0.99      0.99      0.99     27893\n",
      "\n"
     ]
    }
   ],
   "source": [
    "print(cr(y_test,prediction))"
   ]
  },
  {
   "cell_type": "markdown",
   "id": "42e42e7f-299a-4d5c-b843-9ba9a9505483",
   "metadata": {},
   "source": [
    "# Confusion Matrix to analyze the accuracy"
   ]
  },
  {
   "cell_type": "code",
   "execution_count": 57,
   "id": "821c396d-6047-4a7c-994a-4ee27c145f0b",
   "metadata": {},
   "outputs": [
    {
     "data": {
      "text/plain": [
       "Text(0.5, 1.0, 'Confusion Matrix')"
      ]
     },
     "execution_count": 57,
     "metadata": {},
     "output_type": "execute_result"
    },
    {
     "data": {
      "image/png": "[encoded data removed]",
      "text/plain": [
       "<Figure size 1000x500 with 2 Axes>"
      ]
     },
     "metadata": {},
     "output_type": "display_data"
    }
   ],
   "source": [
    "cmm=cm(y_test,prediction)/1000\n",
    "plt.figure(figsize=(10,5))\n",
    "sb.heatmap(cmm,annot=True)\n",
    "plt.xlabel(\"Predicted\")\n",
    "plt.ylabel(\"Truth\")\n",
    "plt.title(\"Confusion Matrix\")"
   ]
  },
  {
   "cell_type": "code",
   "execution_count": 58,
   "id": "58dce022-2f0e-4aa6-9b55-1c75c0a9e999",
   "metadata": {},
   "outputs": [
    {
     "data": {
      "text/html": [
       "<div>\n",
       "<style scoped>\n",
       "    .dataframe tbody tr th:only-of-type {\n",
       "        vertical-align: middle;\n",
       "    }\n",
       "\n",
       "    .dataframe tbody tr th {\n",
       "        vertical-align: top;\n",
       "    }\n",
       "\n",
       "    .dataframe thead th {\n",
       "        text-align: right;\n",
       "    }\n",
       "</style>\n",
       "<table border=\"1\" class=\"dataframe\">\n",
       "  <thead>\n",
       "    <tr style=\"text-align: right;\">\n",
       "      <th></th>\n",
       "      <th>gender</th>\n",
       "      <th>age</th>\n",
       "      <th>hypertension</th>\n",
       "      <th>heart_disease</th>\n",
       "      <th>bmi</th>\n",
       "      <th>HbA1c_level</th>\n",
       "      <th>blood_glucose_level</th>\n",
       "    </tr>\n",
       "  </thead>\n",
       "  <tbody>\n",
       "    <tr>\n",
       "      <th>56374</th>\n",
       "      <td>1</td>\n",
       "      <td>0.53</td>\n",
       "      <td>0</td>\n",
       "      <td>0</td>\n",
       "      <td>0.3592</td>\n",
       "      <td>6.6</td>\n",
       "      <td>1.26</td>\n",
       "    </tr>\n",
       "    <tr>\n",
       "      <th>95368</th>\n",
       "      <td>0</td>\n",
       "      <td>0.25</td>\n",
       "      <td>0</td>\n",
       "      <td>0</td>\n",
       "      <td>0.3322</td>\n",
       "      <td>6.5</td>\n",
       "      <td>1.45</td>\n",
       "    </tr>\n",
       "    <tr>\n",
       "      <th>11690</th>\n",
       "      <td>0</td>\n",
       "      <td>0.28</td>\n",
       "      <td>0</td>\n",
       "      <td>0</td>\n",
       "      <td>0.2732</td>\n",
       "      <td>4.5</td>\n",
       "      <td>1.55</td>\n",
       "    </tr>\n",
       "    <tr>\n",
       "      <th>41834</th>\n",
       "      <td>1</td>\n",
       "      <td>0.71</td>\n",
       "      <td>0</td>\n",
       "      <td>0</td>\n",
       "      <td>0.3003</td>\n",
       "      <td>6.6</td>\n",
       "      <td>1.40</td>\n",
       "    </tr>\n",
       "    <tr>\n",
       "      <th>98996</th>\n",
       "      <td>1</td>\n",
       "      <td>0.62</td>\n",
       "      <td>0</td>\n",
       "      <td>0</td>\n",
       "      <td>0.2423</td>\n",
       "      <td>5.7</td>\n",
       "      <td>2.00</td>\n",
       "    </tr>\n",
       "  </tbody>\n",
       "</table>\n",
       "</div>"
      ],
      "text/plain": [
       "       gender   age  hypertension  heart_disease     bmi  HbA1c_level  \\\n",
       "56374       1  0.53             0              0  0.3592          6.6   \n",
       "95368       0  0.25             0              0  0.3322          6.5   \n",
       "11690       0  0.28             0              0  0.2732          4.5   \n",
       "41834       1  0.71             0              0  0.3003          6.6   \n",
       "98996       1  0.62             0              0  0.2423          5.7   \n",
       "\n",
       "       blood_glucose_level  \n",
       "56374                 1.26  \n",
       "95368                 1.45  \n",
       "11690                 1.55  \n",
       "41834                 1.40  \n",
       "98996                 2.00  "
      ]
     },
     "execution_count": 58,
     "metadata": {},
     "output_type": "execute_result"
    }
   ],
   "source": [
    "x_test.head()"
   ]
  },
  {
   "cell_type": "code",
   "execution_count": 59,
   "id": "d88eae74-c7ea-41a2-b37c-8ad6b1fd45c8",
   "metadata": {},
   "outputs": [
    {
     "data": {
      "text/html": [
       "<div>\n",
       "<style scoped>\n",
       "    .dataframe tbody tr th:only-of-type {\n",
       "        vertical-align: middle;\n",
       "    }\n",
       "\n",
       "    .dataframe tbody tr th {\n",
       "        vertical-align: top;\n",
       "    }\n",
       "\n",
       "    .dataframe thead th {\n",
       "        text-align: right;\n",
       "    }\n",
       "</style>\n",
       "<table border=\"1\" class=\"dataframe\">\n",
       "  <thead>\n",
       "    <tr style=\"text-align: right;\">\n",
       "      <th></th>\n",
       "      <th>diabetes</th>\n",
       "    </tr>\n",
       "  </thead>\n",
       "  <tbody>\n",
       "    <tr>\n",
       "      <th>56374</th>\n",
       "      <td>1</td>\n",
       "    </tr>\n",
       "    <tr>\n",
       "      <th>95368</th>\n",
       "      <td>0</td>\n",
       "    </tr>\n",
       "    <tr>\n",
       "      <th>11690</th>\n",
       "      <td>0</td>\n",
       "    </tr>\n",
       "    <tr>\n",
       "      <th>41834</th>\n",
       "      <td>1</td>\n",
       "    </tr>\n",
       "    <tr>\n",
       "      <th>98996</th>\n",
       "      <td>1</td>\n",
       "    </tr>\n",
       "  </tbody>\n",
       "</table>\n",
       "</div>"
      ],
      "text/plain": [
       "       diabetes\n",
       "56374         1\n",
       "95368         0\n",
       "11690         0\n",
       "41834         1\n",
       "98996         1"
      ]
     },
     "execution_count": 59,
     "metadata": {},
     "output_type": "execute_result"
    }
   ],
   "source": [
    "y_test.head()"
   ]
  },
  {
   "cell_type": "markdown",
   "id": "b60c93b9-03ad-4283-b3e7-44b0d8ad7593",
   "metadata": {},
   "source": [
    "# Define a function which will predict the output"
   ]
  },
  {
   "cell_type": "code",
   "execution_count": 85,
   "id": "3da84ca3-0f79-4905-8e5b-213bf3769e6c",
   "metadata": {},
   "outputs": [],
   "source": [
    "def prediction(gender,age,hyper_tension,heart_disease,bmi,hba1c,blood_glucose):\n",
    "    l=[]\n",
    "    if gender.title()=='Female':\n",
    "        l.append(1)\n",
    "    elif gender.title()=='Other':\n",
    "        l.append(2)\n",
    "    else:\n",
    "        l.append(0)\n",
    "    tension=1 if hyper_tension.title()=='Yes' else 0\n",
    "    heart_prob=1 if heart_disease.title() == 'Yes' else 0\n",
    "    gender=l[0]\n",
    "    age=age/100\n",
    "    bmi=bmi/100\n",
    "    blood_glucose=blood_glucose/100\n",
    "    return model.predict([[gender,age,tension,heart_prob,bmi,hba1c,blood_glucose]]),model.predict_proba([[gender,age,tension,heart_prob,bmi,hba1c,blood_glucose]])"
   ]
  },
  {
   "cell_type": "code",
   "execution_count": 67,
   "id": "1475561e-3c01-4054-ae85-186ea98c19f5",
   "metadata": {},
   "outputs": [
    {
     "data": {
      "text/plain": [
       "['saved_model.pkl']"
      ]
     },
     "execution_count": 67,
     "metadata": {},
     "output_type": "execute_result"
    }
   ],
   "source": [
    "import joblib\n",
    "joblib.dump(model,'saved_model.pkl')"
   ]
  },
  {
   "cell_type": "code",
   "execution_count": 87,
   "id": "4c0f5250-3f90-46b5-8f4d-7c4ab2275ed8",
   "metadata": {},
   "outputs": [
    {
     "name": "stderr",
     "output_type": "stream",
     "text": [
      "C:\\Users\\Arham khan\\AppData\\Local\\Programs\\Python\\Python312\\Lib\\site-packages\\sklearn\\base.py:493: UserWarning: X does not have valid feature names, but RandomForestClassifier was fitted with feature names\n",
      "  warnings.warn(\n",
      "C:\\Users\\Arham khan\\AppData\\Local\\Programs\\Python\\Python312\\Lib\\site-packages\\sklearn\\base.py:493: UserWarning: X does not have valid feature names, but RandomForestClassifier was fitted with feature names\n",
      "  warnings.warn(\n"
     ]
    }
   ],
   "source": [
    "value,prob=prediction('male',50,'yes','no',10,10,190)"
   ]
  },
  {
   "cell_type": "code",
   "execution_count": 91,
   "id": "06e17f7f-a043-42a1-8379-92c00a2ad7da",
   "metadata": {},
   "outputs": [
    {
     "data": {
      "text/plain": [
       "0.72"
      ]
     },
     "execution_count": 91,
     "metadata": {},
     "output_type": "execute_result"
    }
   ],
   "source": []
  },
  {
   "cell_type": "code",
   "execution_count": null,
   "id": "f8ba1876-ae4a-4925-b2bb-46fbab92b9e3",
   "metadata": {},
   "outputs": [],
   "source": []
  }
 ],
 "metadata": {
  "kernelspec": {
   "display_name": "Python 3 (ipykernel)",
   "language": "python",
   "name": "python3"
  },
  "language_info": {
   "codemirror_mode": {
    "name": "ipython",
    "version": 3
   },
   "file_extension": ".py",
   "mimetype": "text/x-python",
   "name": "python",
   "nbconvert_exporter": "python",
   "pygments_lexer": "ipython3",
   "version": "3.12.2"
  }
 },
 "nbformat": 4,
 "nbformat_minor": 5
}
